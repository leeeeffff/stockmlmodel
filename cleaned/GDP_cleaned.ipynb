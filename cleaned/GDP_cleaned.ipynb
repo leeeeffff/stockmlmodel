{
 "cells": [
  {
   "cell_type": "code",
   "execution_count": 2,
   "metadata": {},
   "outputs": [],
   "source": [
    "import numpy as np\n",
    "import pandas as pd "
   ]
  },
  {
   "cell_type": "code",
   "execution_count": 3,
   "metadata": {},
   "outputs": [],
   "source": [
    "df = pd.read_csv(\"../data/GDP_Growth_Data.csv\")"
   ]
  },
  {
   "cell_type": "code",
   "execution_count": 4,
   "metadata": {},
   "outputs": [
    {
     "name": "stdout",
     "output_type": "stream",
     "text": [
      "   Year  GDP Growth (%)  Annual Change (%)\n",
      "0  2014            2.52               0.41\n",
      "1  2015            2.95               0.42\n",
      "2  2016            1.82              -1.13\n",
      "3  2017            2.46               0.64\n",
      "4  2018            2.97               0.51\n",
      "5  2019            2.47              -0.50\n",
      "6  2020           -2.21              -4.68\n",
      "7  2021            5.80               8.01\n",
      "8  2022            1.94              -3.86\n",
      "9  2023            2.54               0.61\n"
     ]
    }
   ],
   "source": [
    "print(df)"
   ]
  },
  {
   "cell_type": "code",
   "execution_count": 6,
   "metadata": {},
   "outputs": [],
   "source": [
    "df.to_csv(\"GDP_Growth.csv\", index=False)"
   ]
  }
 ],
 "metadata": {
  "kernelspec": {
   "display_name": "Python 3",
   "language": "python",
   "name": "python3"
  },
  "language_info": {
   "codemirror_mode": {
    "name": "ipython",
    "version": 3
   },
   "file_extension": ".py",
   "mimetype": "text/x-python",
   "name": "python",
   "nbconvert_exporter": "python",
   "pygments_lexer": "ipython3",
   "version": "3.10.12"
  }
 },
 "nbformat": 4,
 "nbformat_minor": 2
}
